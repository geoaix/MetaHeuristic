{
  "cells": [
    {
      "cell_type": "code",
      "execution_count": null,
      "metadata": {
        "collapsed": false
      },
      "outputs": [],
      "source": [
        "%matplotlib inline"
      ]
    },
    {
      "cell_type": "markdown",
      "metadata": {},
      "source": [
        "\n# Plotting MetaHeuristics - Basic Use\n\n\nAn example plot of :class:`feature_selection.HarmonicSearch\n\n"
      ]
    },
    {
      "cell_type": "code",
      "execution_count": null,
      "metadata": {
        "collapsed": false
      },
      "outputs": [],
      "source": [
        "from feature_selection import HarmonicSearch, GeneticAlgorithm\nfrom sklearn.datasets import load_breast_cancer\nfrom sklearn.svm import SVC\n\ndataset = load_breast_cancer()\nX, y = dataset['data'], dataset['target_names'].take(dataset['target'])\n\n# Classifier to be used in the metaheuristic\nclf = SVC()\n\nhs = HarmonicSearch(classifier=clf, random_state=0, make_logbook=True,\n                    repeat=2)\n\nga = GeneticAlgorithm(classifier=clf, random_state=1, make_logbook=True,\n                      repeat=2)\n\n# Fit the classifier\nhs.fit(X, y, normalize=True)\nga.fit(X, y, normalize=True)\n\nprint(\"Number of Features Selected: \\n \\t HS: \", sum(hs.support_)/X.shape[1],\n      \"% \\t GA: \", sum(ga.support_)/X.shape[1], \"%\")\nprint(\"Accuracy of the classifier: \\n \\t HS: \", hs.fitness_[0], \"\\t GA: \",\n      ga.fitness_[0])\n\n# Transformed dataset\nX_hs = hs.transform(X)\nX_ga = ga.transform(X)\n\n# Plot the results of each test\nhs.plot_results()\nga.plot_results()"
      ]
    }
  ],
  "metadata": {
    "kernelspec": {
      "display_name": "Python 3",
      "language": "python",
      "name": "python3"
    },
    "language_info": {
      "codemirror_mode": {
        "name": "ipython",
        "version": 3
      },
      "file_extension": ".py",
      "mimetype": "text/x-python",
      "name": "python",
      "nbconvert_exporter": "python",
      "pygments_lexer": "ipython3",
      "version": "3.6.1"
    }
  },
  "nbformat": 4,
  "nbformat_minor": 0
}