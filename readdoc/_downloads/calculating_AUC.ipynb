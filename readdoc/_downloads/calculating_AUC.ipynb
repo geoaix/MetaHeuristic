{
  "nbformat_minor": 0, 
  "nbformat": 4, 
  "cells": [
    {
      "execution_count": null, 
      "cell_type": "code", 
      "source": [
        "%matplotlib inline"
      ], 
      "outputs": [], 
      "metadata": {
        "collapsed": false
      }
    }, 
    {
      "source": [
        "\n# How to Compare NSGA2 Results - AUC\n\n\nAn example plot of :class:`feature_selection.HarmonicSearch\n\n"
      ], 
      "cell_type": "markdown", 
      "metadata": {}
    }, 
    {
      "execution_count": null, 
      "cell_type": "code", 
      "source": [
        "from feature_selection import BRKGA2\nimport matplotlib.pyplot as plt\nimport numpy as np\nfrom sklearn.preprocessing import StandardScaler\nimport matplotlib.cm as cm\nfrom sklearn.metrics import auc\nfrom sklearn.datasets import load_breast_cancer\n\ndataset = load_breast_cancer()\nX, y = dataset['data'], dataset['target_names'].take(dataset['target'])\nsc_X = StandardScaler()\nX = sc_X.fit_transform(X)\n \nga = BRKGA2(number_gen=10, size_pop=40, elite_size=10, mutant_size=10,\n            make_logbook=True, repeat=2, random_state=1,\n            features_metric_function='poly')\n\n# Fit the classifier\nga.fit(X, y, normalize=True)\n\ncolors = cm.rainbow(np.linspace(0, 1, len(ga.pareto_front_)))\n\nfor i in range(len(ga.pareto_front_)):\n    obj1=[]\n    obj2=[]\n    auc_=[]\n    for j in range(len(ga.pareto_front_[i])):\n        obj1.append(ga.pareto_front_[i][j].fitness.values[0])\n        obj2.append(ga.pareto_front_[i][j].fitness.values[1]*20)\n    obj1.append(obj1[0])\n    obj2.append(1)\n    plt.scatter(obj2, obj1, color=colors[i], \n                label=\"AUC {:.3f} ({:d})\".format( auc(obj2, obj1, reorder=True), i))\n\nobj1=[]\nobj2=[]\nfor i in range(len(ga.best_pareto_front_)):\n    obj1.append(ga.best_pareto_front_[i].fitness.values[0])\n    obj2.append(ga.best_pareto_front_[i].fitness.values[1]*20)\nplt.scatter(obj2, obj1, marker='+', label=\"Best Pareto\", color=\"black\")\nplt.title(\" Pareto front and Area under Curve\")\nplt.xlabel(\"#SelectedFeatures/#TotalFeatures) \")\nplt.xlabel(\"Accuracy - Variation\")\nplt.legend()"
      ], 
      "outputs": [], 
      "metadata": {
        "collapsed": false
      }
    }
  ], 
  "metadata": {
    "kernelspec": {
      "display_name": "Python 2", 
      "name": "python2", 
      "language": "python"
    }, 
    "language_info": {
      "mimetype": "text/x-python", 
      "nbconvert_exporter": "python", 
      "name": "python", 
      "file_extension": ".py", 
      "version": "2.7.11", 
      "pygments_lexer": "ipython2", 
      "codemirror_mode": {
        "version": 2, 
        "name": "ipython"
      }
    }
  }
}