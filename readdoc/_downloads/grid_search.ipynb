{
  "nbformat_minor": 0, 
  "nbformat": 4, 
  "cells": [
    {
      "execution_count": null, 
      "cell_type": "code", 
      "source": [
        "%matplotlib inline"
      ], 
      "outputs": [], 
      "metadata": {
        "collapsed": false
      }
    }, 
    {
      "source": [
        "\n# Grid Search Example\n\n\nAn example of how to use Metaheuristics and GridSearch\n\n"
      ], 
      "cell_type": "markdown", 
      "metadata": {}
    }, 
    {
      "execution_count": null, 
      "cell_type": "code", 
      "source": [
        "from feature_selection import HarmonicSearch\nfrom sklearn.datasets import load_breast_cancer\nfrom sklearn.model_selection import GridSearchCV\nfrom sklearn.svm import SVC\nfrom sklearn.preprocessing import StandardScaler\nimport pandas as pd\nfrom sklearn.ensemble import RandomForestClassifier\n\ndataset = load_breast_cancer()\nX, y = dataset['data'], dataset['target_names'].take(dataset['target'])\nsc_X = StandardScaler()\nX = sc_X.fit_transform(X)\n\n# Classifier to be used in the metaheuristic\nclf = SVC()\nclf = RandomForestClassifier()\nclf.fit(X,y)\nclf.predict(X) == y\n# Parameter Grid\nparam_grid= {\n    \"HMCR\":[0, 0.5, 0.95],\n    \"indpb\":[0.05, 0.5, 1],\n    \"pitch\":[0.05, 0.5, 1],\n    \"repeat\":[3]\n     }\nhs = HarmonicSearch(classifier=clf, make_logbook=True)\ngrid_search = GridSearchCV(hs, param_grid=param_grid, scoring=hs.score_func_to_gridsearch, cv=4,\n                           verbose=2)\ngrid_search.fit(X,y)\n\ngrid_search.best_params_\nresults = pd.DataFrame.from_dict(grid_search.cv_results_)"
      ], 
      "outputs": [], 
      "metadata": {
        "collapsed": false
      }
    }
  ], 
  "metadata": {
    "kernelspec": {
      "display_name": "Python 2", 
      "name": "python2", 
      "language": "python"
    }, 
    "language_info": {
      "mimetype": "text/x-python", 
      "nbconvert_exporter": "python", 
      "name": "python", 
      "file_extension": ".py", 
      "version": "2.7.11", 
      "pygments_lexer": "ipython2", 
      "codemirror_mode": {
        "version": 2, 
        "name": "ipython"
      }
    }
  }
}