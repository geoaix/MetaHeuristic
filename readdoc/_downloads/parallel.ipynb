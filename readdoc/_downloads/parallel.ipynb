{
  "nbformat_minor": 0, 
  "nbformat": 4, 
  "cells": [
    {
      "execution_count": null, 
      "cell_type": "code", 
      "source": [
        "%matplotlib inline"
      ], 
      "outputs": [], 
      "metadata": {
        "collapsed": false
      }
    }, 
    {
      "source": [
        "\n# Parallel Example\n\n\nAn example plot of :class:`feature_selection.HarmonicSearch\n\n"
      ], 
      "cell_type": "markdown", 
      "metadata": {}
    }, 
    {
      "execution_count": null, 
      "cell_type": "code", 
      "source": [
        "from feature_selection import GeneticAlgorithm\nfrom sklearn.datasets import load_breast_cancer\nfrom sklearn.svm import SVC\n\n# It is very necessary to include if __name__ == \"__main__\"\nif __name__ == \"__main__\":\n    dataset = load_breast_cancer()\n    X, y = dataset['data'], dataset['target_names'].take(dataset['target'])\n    \n    # Classifier to be used in the metaheuristic\n    clf = SVC()\n    \n    ga = GeneticAlgorithm(classifier=clf, make_logbook=True, repeat=2, parallel=True,\n                          verbose=True, size_pop=100)\n    \n    # Fit the classifier\n    ga.fit(X, y, normalize=True)\n    \n    print(\"Number of Features Selected: \\n \\t HS: \" , sum(ga.best_mask_)/X.shape[1], \"%\")\n    print(\"Accuracy of the classifier: \\n \\t HS: \", ga.fitness_[0])\n    \n    # Plot the results of each test\n    ga.plot_results()"
      ], 
      "outputs": [], 
      "metadata": {
        "collapsed": false
      }
    }
  ], 
  "metadata": {
    "kernelspec": {
      "display_name": "Python 2", 
      "name": "python2", 
      "language": "python"
    }, 
    "language_info": {
      "mimetype": "text/x-python", 
      "nbconvert_exporter": "python", 
      "name": "python", 
      "file_extension": ".py", 
      "version": "2.7.11", 
      "pygments_lexer": "ipython2", 
      "codemirror_mode": {
        "version": 2, 
        "name": "ipython"
      }
    }
  }
}