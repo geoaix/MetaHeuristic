{
  "nbformat_minor": 0, 
  "nbformat": 4, 
  "cells": [
    {
      "execution_count": null, 
      "cell_type": "code", 
      "source": [
        "%matplotlib inline"
      ], 
      "outputs": [], 
      "metadata": {
        "collapsed": false
      }
    }, 
    {
      "source": [
        "\n# Parallel Example\n\n\nIf a lot of cycles and tests are needed, this approach will lead to more fast\nresults. Instead of making parallel the classifier, each metaheuristics will run\ninto a different process.\n\n"
      ], 
      "cell_type": "markdown", 
      "metadata": {}
    }, 
    {
      "execution_count": null, 
      "cell_type": "code", 
      "source": [
        "## Import dataset\nimport numpy as np\nfrom sklearn.preprocessing import StandardScaler\nfrom feature_selection import BRKGA\nfrom six.moves import cPickle\nfrom multiprocessing import Pool\nimport time\nfrom sklearn.datasets import load_breast_cancer\n\ndataset = load_breast_cancer()\nX, y = dataset['data'], dataset['target_names'].take(dataset['target'])    \n# Feature Scaling in X\nsc_X = StandardScaler()\nX = sc_X.fit_transform(X)\n\ndef f(i):\n    print(\"Now in: \", int(i))\n    a = BRKGA(size_pop=10, mutant_size=2, elite_size=2,\n                  number_gen = int(i),repeat = 2, make_logbook=True, \n                  verbose=False, cxUniform_indpb=0.9).fit(X,y)\n    return a\n\nif __name__ == \"__main__\":\n    \n    # Cleaning variabels\n    del dataset\n    \n    # Teste A\n    print(\"Teste A\")\n    t0 = time.time()\n    \n    number_gen = np.linspace(1,4,num=3)\n\n    pool = Pool()              # start 4 worker processes\n    \n    clfsA=list( pool.map(f,number_gen))\n    pool.close()\n    \n    print(\"Final Time: \", time.time()- t0)\n    file = open('teste_1_A2.save', 'wb')\n    cPickle.dump(clfsA, file, protocol=cPickle.HIGHEST_PROTOCOL)\n    file.close()"
      ], 
      "outputs": [], 
      "metadata": {
        "collapsed": false
      }
    }
  ], 
  "metadata": {
    "kernelspec": {
      "display_name": "Python 2", 
      "name": "python2", 
      "language": "python"
    }, 
    "language_info": {
      "mimetype": "text/x-python", 
      "nbconvert_exporter": "python", 
      "name": "python", 
      "file_extension": ".py", 
      "version": "2.7.11", 
      "pygments_lexer": "ipython2", 
      "codemirror_mode": {
        "version": 2, 
        "name": "ipython"
      }
    }
  }
}