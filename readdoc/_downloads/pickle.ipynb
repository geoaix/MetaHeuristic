{
  "nbformat_minor": 0, 
  "nbformat": 4, 
  "cells": [
    {
      "execution_count": null, 
      "cell_type": "code", 
      "source": [
        "%matplotlib inline"
      ], 
      "outputs": [], 
      "metadata": {
        "collapsed": false
      }
    }, 
    {
      "source": [
        "\n# Using Pickle to save models\n\n\nYou can use pickle to save your model\n\n"
      ], 
      "cell_type": "markdown", 
      "metadata": {}
    }, 
    {
      "execution_count": null, 
      "cell_type": "code", 
      "source": [
        "from feature_selection import HarmonicSearch\nfrom sklearn.datasets import load_breast_cancer\nfrom six.moves import cPickle\n\ndataset = load_breast_cancer()\nX, y = dataset['data'], dataset['target_names'].take(dataset['target'])\n    \nhs = HarmonicSearch(random_state=0, make_logbook=True,\n                    repeat=2)\n    \nhs.fit(X,y, normalize=True)\n    \nfile = \"HarmonicSearch\"\n\nf = open(file +'.save', 'wb')\ncPickle.dump(hs, f, protocol=cPickle.HIGHEST_PROTOCOL)\nf.close()"
      ], 
      "outputs": [], 
      "metadata": {
        "collapsed": false
      }
    }
  ], 
  "metadata": {
    "kernelspec": {
      "display_name": "Python 2", 
      "name": "python2", 
      "language": "python"
    }, 
    "language_info": {
      "mimetype": "text/x-python", 
      "nbconvert_exporter": "python", 
      "name": "python", 
      "file_extension": ".py", 
      "version": "2.7.11", 
      "pygments_lexer": "ipython2", 
      "codemirror_mode": {
        "version": 2, 
        "name": "ipython"
      }
    }
  }
}