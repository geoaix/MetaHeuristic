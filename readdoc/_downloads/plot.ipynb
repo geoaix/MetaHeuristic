{
  "nbformat_minor": 0, 
  "nbformat": 4, 
  "cells": [
    {
      "execution_count": null, 
      "cell_type": "code", 
      "source": [
        "%matplotlib inline"
      ], 
      "outputs": [], 
      "metadata": {
        "collapsed": false
      }
    }, 
    {
      "source": [
        "\n# Plotting MetaHeuristics - Basic Use\n\n\nAn example plot of :class:`feature_selection.HarmonicSearch\n\n"
      ], 
      "cell_type": "markdown", 
      "metadata": {}
    }, 
    {
      "execution_count": null, 
      "cell_type": "code", 
      "source": [
        "from feature_selection import HarmonicSearch, GeneticAlgorithm\nfrom sklearn.datasets import load_breast_cancer\nfrom sklearn.svm import SVC\n\ndataset = load_breast_cancer()\nX, y = dataset['data'], dataset['target_names'].take(dataset['target'])\n\n# Classifier to be used in the metaheuristic\nclf = SVC()\n\nhs = HarmonicSearch(classifier=clf, random_state=0, make_logbook=True,\n                    repeat=2)\n\nga = GeneticAlgorithm(classifier=clf, random_state=1, make_logbook=True,\n                      repeat=2)\n\n# Fit the classifier\nhs.fit(X, y, normalize=True)\nga.fit(X, y, normalize=True)\n\nprint(\"Number of Features Selected: \\n \\t HS: \", sum(hs.support_)/X.shape[1],\n      \"% \\t GA: \", sum(ga.support_)/X.shape[1], \"%\")\nprint(\"Accuracy of the classifier: \\n \\t HS: \", hs.fitness_[0], \"\\t GA: \",\n      ga.fitness_[0])\n\n# Transformed dataset\nX_hs = hs.transform(X)\nX_ga = ga.transform(X)\n\n# Plot the results of each test\nhs.plot_results()\nga.plot_results()"
      ], 
      "outputs": [], 
      "metadata": {
        "collapsed": false
      }
    }
  ], 
  "metadata": {
    "kernelspec": {
      "display_name": "Python 2", 
      "name": "python2", 
      "language": "python"
    }, 
    "language_info": {
      "mimetype": "text/x-python", 
      "nbconvert_exporter": "python", 
      "name": "python", 
      "file_extension": ".py", 
      "version": "2.7.11", 
      "pygments_lexer": "ipython2", 
      "codemirror_mode": {
        "version": 2, 
        "name": "ipython"
      }
    }
  }
}