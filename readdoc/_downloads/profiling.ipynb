{
  "nbformat_minor": 0, 
  "nbformat": 4, 
  "cells": [
    {
      "execution_count": null, 
      "cell_type": "code", 
      "source": [
        "%matplotlib inline"
      ], 
      "outputs": [], 
      "metadata": {
        "collapsed": false
      }
    }, 
    {
      "source": [
        "\n# Profiling Example\n\n\nAn example of how to use Profile in the algorithm\n\n"
      ], 
      "cell_type": "markdown", 
      "metadata": {}
    }, 
    {
      "execution_count": null, 
      "cell_type": "code", 
      "source": [
        "# Commmand \"python -m cProfile -o profile_output script.py\"\nfrom feature_selection import BRKGA2\nfrom sklearn.datasets import load_breast_cancer\nfrom sklearn.preprocessing import StandardScaler\n\nimport cProfile\n\ndataset = load_breast_cancer()\nX, y = dataset['data'], dataset['target_names'].take(dataset['target'])\nsc_X = StandardScaler()\nX = sc_X.fit_transform(X)\n\n\n# Classifier to be used in the metaheuristic\nprint(\"Starting Algorithm\")\nga =BRKGA2(make_logbook=True, repeat=2, parallel=False,\n           size_pop=100, elite_size=30, mutant_size=10)\n\ncProfile.run('ga.fit(X,y)', 'restats')\n\nimport pstats\np = pstats.Stats('restats')\np.sort_stats('cumulative').print_stats(50)"
      ], 
      "outputs": [], 
      "metadata": {
        "collapsed": false
      }
    }
  ], 
  "metadata": {
    "kernelspec": {
      "display_name": "Python 2", 
      "name": "python2", 
      "language": "python"
    }, 
    "language_info": {
      "mimetype": "text/x-python", 
      "nbconvert_exporter": "python", 
      "name": "python", 
      "file_extension": ".py", 
      "version": "2.7.11", 
      "pygments_lexer": "ipython2", 
      "codemirror_mode": {
        "version": 2, 
        "name": "ipython"
      }
    }
  }
}